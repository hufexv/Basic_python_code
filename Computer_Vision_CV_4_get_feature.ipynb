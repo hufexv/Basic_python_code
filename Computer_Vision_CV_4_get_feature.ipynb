{
  "nbformat": 4,
  "nbformat_minor": 0,
  "metadata": {
    "colab": {
      "provenance": [],
      "authorship_tag": "ABX9TyM4deLpBGUgjPOMe7zJsuRj",
      "include_colab_link": true
    },
    "kernelspec": {
      "name": "python3",
      "display_name": "Python 3"
    },
    "language_info": {
      "name": "python"
    }
  },
  "cells": [
    {
      "cell_type": "markdown",
      "metadata": {
        "id": "view-in-github",
        "colab_type": "text"
      },
      "source": [
        "<a href=\"https://colab.research.google.com/github/hufexv/Basic_python_code/blob/main/Computer_Vision_CV_4_get_feature.ipynb\" target=\"_parent\"><img src=\"https://colab.research.google.com/assets/colab-badge.svg\" alt=\"Open In Colab\"/></a>"
      ]
    },
    {
      "cell_type": "code",
      "execution_count": 1,
      "metadata": {
        "id": "DiL84JlZrfkm"
      },
      "outputs": [],
      "source": [
        "import numpy as np\n",
        "from skimage import color as ski_color\n",
        "from skimage import io as ski_io\n",
        "from skimage import transform as ski_transform\n",
        "from skimage import feature as ski_feature\n"
      ]
    },
    {
      "cell_type": "code",
      "source": [
        "img = ski_io.imread('koala.png')\n",
        "img = ski_color.rgb2gray(img)\n",
        "print(img.shape)\n",
        "img = ski_transform.resize(img,(100,300))\n",
        "print(img.shape)\n",
        "\n",
        "hog_feature = ski_feature.hog(img)\n",
        "lbp_feature = ski_feature.local_binary_pattern(img, P=8, R=0.5).reshape(-1)\n",
        "corner_harris_feature = ski_feature.corner_harris(img).reshape(-1)\n",
        "print(hog_feature.shape)\n",
        "print(lbp_feature.shape)\n",
        "print(corner_harris_feature.shape)"
      ],
      "metadata": {
        "colab": {
          "base_uri": "https://localhost:8080/"
        },
        "id": "nWgn0J6UsVqN",
        "outputId": "d61a379d-83ea-40de-bbea-3d9c26e5aa79"
      },
      "execution_count": 3,
      "outputs": [
        {
          "output_type": "stream",
          "name": "stdout",
          "text": [
            "(313, 500)\n",
            "(100, 300)\n"
          ]
        },
        {
          "output_type": "stream",
          "name": "stderr",
          "text": [
            "/usr/local/lib/python3.11/dist-packages/skimage/feature/texture.py:385: UserWarning: Applying `local_binary_pattern` to floating-point images may give unexpected results when small numerical differences between adjacent pixels are present. It is recommended to use this function with images of integer dtype.\n",
            "  warnings.warn(\n"
          ]
        },
        {
          "output_type": "stream",
          "name": "stdout",
          "text": [
            "(28350,)\n",
            "(30000,)\n",
            "(30000,)\n"
          ]
        }
      ]
    }
  ]
}