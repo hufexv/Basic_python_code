{
  "cells": [
    {
      "cell_type": "markdown",
      "metadata": {
        "id": "view-in-github",
        "colab_type": "text"
      },
      "source": [
        "<a href=\"https://colab.research.google.com/github/hufexv/Basic_python_code/blob/main/B_P%20procedual.ipynb\" target=\"_parent\"><img src=\"https://colab.research.google.com/assets/colab-badge.svg\" alt=\"Open In Colab\"/></a>"
      ]
    },
    {
      "cell_type": "markdown",
      "source": [
        "#B_P procedual\n"
      ],
      "metadata": {
        "id": "eUDBq9iRdjoK"
      }
    },
    {
      "cell_type": "code",
      "source": [],
      "metadata": {
        "id": "EYIfNgK3eWRc"
      },
      "execution_count": null,
      "outputs": []
    },
    {
      "cell_type": "code",
      "source": [
        "#forward\n",
        "def w(i):\n",
        "  return _w[i-1]\n",
        "def b(i):\n",
        "  return _b[i-1]\n",
        "def x(i):\n",
        "  return _x[i-1]\n",
        "def y(i):\n",
        "  return _y[i-1]\n",
        "def sigmoid(z):\n",
        "  return 1.0/(1.0 + np.exp(-z))\n",
        "def set_w(i, gd):\n",
        "  _w[i-1] = _w[i-1] - lr*gd\n",
        "def training():\n",
        "  h1 = sigmoid(z=w(1)*x(1) + w(2)*x(2) +b(1))\n",
        "  h2 = sigmoid(z=w(3)*x(1) + w(4)*x(2) +b(1))\n",
        "  h3 = sigmoid(z=w(5)*x(1) + w(6)*x(2) +b(1))\n",
        "  o1 = sigmoid(z=w(7)*h1 + w(9)*h2 + w(11)*h3 + b(2))\n",
        "  o2 = sigmoid(z=w(8)*h1 + w(10)*h2 + w(12)*h3 + b(2))\n",
        "  loss = 0.5*((y(1) - o1)**2 + (y(2) - o2)**2)\n",
        "  print(h1, h2, h3, o1, o2, loss)\n",
        "  training()"
      ],
      "metadata": {
        "id": "7_4zPnw-dv8l"
      },
      "execution_count": null,
      "outputs": []
    },
    {
      "cell_type": "code",
      "source": [
        "#backward\n",
        "t1 = (o1 - y(1))*o1 * (1-o1)#loss对net_o1的梯度\n",
        "t2 = (o2 - y(2))*o2 * (1-o2)#loss对net_o2的梯度\n",
        "\n",
        "set_w(7, gd=t1*h1)\n",
        "set_w(8, gd=t2*h1)\n",
        "set_w(9, gd=t1*h2)\n",
        "set_w(10, gd=t2*h2)\n",
        "set_w(11, gd=t1*h3)\n",
        "set_w(12, gd=t2*h3)\n",
        "\n",
        "set_w(1, gd=(t1*w(7) + t2*w(8))*h1*(1-h1)*x(1))"
      ],
      "metadata": {
        "id": "lSQz7T2VdwQp"
      },
      "execution_count": null,
      "outputs": []
    }
  ],
  "metadata": {
    "colab": {
      "toc_visible": true,
      "provenance": [],
      "include_colab_link": true
    },
    "kernelspec": {
      "display_name": "Python 3",
      "name": "python3"
    }
  },
  "nbformat": 4,
  "nbformat_minor": 0
}